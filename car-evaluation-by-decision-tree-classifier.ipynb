{
 "cells": [
  {
   "cell_type": "markdown",
   "id": "f886cba4",
   "metadata": {
    "papermill": {
     "duration": 0.044224,
     "end_time": "2022-05-18T10:30:34.716116",
     "exception": false,
     "start_time": "2022-05-18T10:30:34.671892",
     "status": "completed"
    },
    "tags": []
   },
   "source": [
    "# **1. Import libraries** <a class=\"anchor\" id=\"7\"></a>\n",
    "\n"
   ]
  },
  {
   "cell_type": "code",
   "execution_count": 1,
   "id": "c8c2cffb",
   "metadata": {
    "execution": {
     "iopub.execute_input": "2022-05-18T10:30:34.825737Z",
     "iopub.status.busy": "2022-05-18T10:30:34.824876Z",
     "iopub.status.idle": "2022-05-18T10:30:36.001428Z",
     "shell.execute_reply": "2022-05-18T10:30:36.000233Z"
    },
    "papermill": {
     "duration": 1.23538,
     "end_time": "2022-05-18T10:30:36.004379",
     "exception": false,
     "start_time": "2022-05-18T10:30:34.768999",
     "status": "completed"
    },
    "tags": []
   },
   "outputs": [],
   "source": [
    "import numpy as np # linear algebra\n",
    "import pandas as pd # data processing, CSV file I/O (e.g. pd.read_csv)\n",
    "import matplotlib.pyplot as plt # data visualization\n",
    "import seaborn as sns # statistical data visualization\n",
    "%matplotlib inline"
   ]
  },
  {
   "cell_type": "code",
   "execution_count": 2,
   "id": "e3c37d27",
   "metadata": {
    "execution": {
     "iopub.execute_input": "2022-05-18T10:30:36.096249Z",
     "iopub.status.busy": "2022-05-18T10:30:36.095619Z",
     "iopub.status.idle": "2022-05-18T10:30:36.100023Z",
     "shell.execute_reply": "2022-05-18T10:30:36.099399Z"
    },
    "papermill": {
     "duration": 0.053248,
     "end_time": "2022-05-18T10:30:36.102224",
     "exception": false,
     "start_time": "2022-05-18T10:30:36.048976",
     "status": "completed"
    },
    "tags": []
   },
   "outputs": [],
   "source": [
    "import warnings\n",
    "\n",
    "warnings.filterwarnings('ignore')"
   ]
  },
  {
   "cell_type": "markdown",
   "id": "0f4a5ffa",
   "metadata": {
    "papermill": {
     "duration": 0.042991,
     "end_time": "2022-05-18T10:30:36.189081",
     "exception": false,
     "start_time": "2022-05-18T10:30:36.146090",
     "status": "completed"
    },
    "tags": []
   },
   "source": [
    "# **2. Import dataset** <a class=\"anchor\" id=\"8\"></a>\n"
   ]
  },
  {
   "cell_type": "code",
   "execution_count": 3,
   "id": "a1454d98",
   "metadata": {
    "execution": {
     "iopub.execute_input": "2022-05-18T10:30:36.277054Z",
     "iopub.status.busy": "2022-05-18T10:30:36.276631Z",
     "iopub.status.idle": "2022-05-18T10:30:36.296057Z",
     "shell.execute_reply": "2022-05-18T10:30:36.295359Z"
    },
    "papermill": {
     "duration": 0.066366,
     "end_time": "2022-05-18T10:30:36.298316",
     "exception": false,
     "start_time": "2022-05-18T10:30:36.231950",
     "status": "completed"
    },
    "tags": []
   },
   "outputs": [],
   "source": [
    "data = '../input/carevaluation/car_evaluation.csv'\n",
    "\n",
    "df = pd.read_csv(data, header=None)"
   ]
  },
  {
   "cell_type": "markdown",
   "id": "92bd82dc",
   "metadata": {
    "papermill": {
     "duration": 0.043163,
     "end_time": "2022-05-18T10:30:36.384812",
     "exception": false,
     "start_time": "2022-05-18T10:30:36.341649",
     "status": "completed"
    },
    "tags": []
   },
   "source": [
    "# **3. Exploratory data analysis** <a class=\"anchor\" id=\"9\"></a>\n",
    "\n",
    "\n",
    "\n",
    "Now, I will explore the data to gain insights about the data. "
   ]
  },
  {
   "cell_type": "code",
   "execution_count": 4,
   "id": "13710c64",
   "metadata": {
    "execution": {
     "iopub.execute_input": "2022-05-18T10:30:36.472694Z",
     "iopub.status.busy": "2022-05-18T10:30:36.472434Z",
     "iopub.status.idle": "2022-05-18T10:30:36.478991Z",
     "shell.execute_reply": "2022-05-18T10:30:36.478328Z"
    },
    "papermill": {
     "duration": 0.053786,
     "end_time": "2022-05-18T10:30:36.481421",
     "exception": false,
     "start_time": "2022-05-18T10:30:36.427635",
     "status": "completed"
    },
    "tags": []
   },
   "outputs": [
    {
     "data": {
      "text/plain": [
       "(1728, 7)"
      ]
     },
     "execution_count": 4,
     "metadata": {},
     "output_type": "execute_result"
    }
   ],
   "source": [
    "# view dimensions of dataset\n",
    "\n",
    "df.shape"
   ]
  },
  {
   "cell_type": "markdown",
   "id": "5757fbc8",
   "metadata": {
    "papermill": {
     "duration": 0.042966,
     "end_time": "2022-05-18T10:30:36.568058",
     "exception": false,
     "start_time": "2022-05-18T10:30:36.525092",
     "status": "completed"
    },
    "tags": []
   },
   "source": [
    "We can see that there are 1728 instances and 7 variables in the data set."
   ]
  },
  {
   "cell_type": "markdown",
   "id": "3e18871c",
   "metadata": {
    "papermill": {
     "duration": 0.044275,
     "end_time": "2022-05-18T10:30:36.655810",
     "exception": false,
     "start_time": "2022-05-18T10:30:36.611535",
     "status": "completed"
    },
    "tags": []
   },
   "source": [
    "### View top 5 rows of dataset"
   ]
  },
  {
   "cell_type": "code",
   "execution_count": 5,
   "id": "615fa1c2",
   "metadata": {
    "execution": {
     "iopub.execute_input": "2022-05-18T10:30:36.748296Z",
     "iopub.status.busy": "2022-05-18T10:30:36.747634Z",
     "iopub.status.idle": "2022-05-18T10:30:36.768960Z",
     "shell.execute_reply": "2022-05-18T10:30:36.767504Z"
    },
    "papermill": {
     "duration": 0.071412,
     "end_time": "2022-05-18T10:30:36.770985",
     "exception": false,
     "start_time": "2022-05-18T10:30:36.699573",
     "status": "completed"
    },
    "tags": []
   },
   "outputs": [
    {
     "data": {
      "text/html": [
       "<div>\n",
       "<style scoped>\n",
       "    .dataframe tbody tr th:only-of-type {\n",
       "        vertical-align: middle;\n",
       "    }\n",
       "\n",
       "    .dataframe tbody tr th {\n",
       "        vertical-align: top;\n",
       "    }\n",
       "\n",
       "    .dataframe thead th {\n",
       "        text-align: right;\n",
       "    }\n",
       "</style>\n",
       "<table border=\"1\" class=\"dataframe\">\n",
       "  <thead>\n",
       "    <tr style=\"text-align: right;\">\n",
       "      <th></th>\n",
       "      <th>0</th>\n",
       "      <th>1</th>\n",
       "      <th>2</th>\n",
       "      <th>3</th>\n",
       "      <th>4</th>\n",
       "      <th>5</th>\n",
       "      <th>6</th>\n",
       "    </tr>\n",
       "  </thead>\n",
       "  <tbody>\n",
       "    <tr>\n",
       "      <th>0</th>\n",
       "      <td>vhigh</td>\n",
       "      <td>vhigh</td>\n",
       "      <td>2</td>\n",
       "      <td>2</td>\n",
       "      <td>small</td>\n",
       "      <td>low</td>\n",
       "      <td>unacc</td>\n",
       "    </tr>\n",
       "    <tr>\n",
       "      <th>1</th>\n",
       "      <td>vhigh</td>\n",
       "      <td>vhigh</td>\n",
       "      <td>2</td>\n",
       "      <td>2</td>\n",
       "      <td>small</td>\n",
       "      <td>med</td>\n",
       "      <td>unacc</td>\n",
       "    </tr>\n",
       "    <tr>\n",
       "      <th>2</th>\n",
       "      <td>vhigh</td>\n",
       "      <td>vhigh</td>\n",
       "      <td>2</td>\n",
       "      <td>2</td>\n",
       "      <td>small</td>\n",
       "      <td>high</td>\n",
       "      <td>unacc</td>\n",
       "    </tr>\n",
       "    <tr>\n",
       "      <th>3</th>\n",
       "      <td>vhigh</td>\n",
       "      <td>vhigh</td>\n",
       "      <td>2</td>\n",
       "      <td>2</td>\n",
       "      <td>med</td>\n",
       "      <td>low</td>\n",
       "      <td>unacc</td>\n",
       "    </tr>\n",
       "    <tr>\n",
       "      <th>4</th>\n",
       "      <td>vhigh</td>\n",
       "      <td>vhigh</td>\n",
       "      <td>2</td>\n",
       "      <td>2</td>\n",
       "      <td>med</td>\n",
       "      <td>med</td>\n",
       "      <td>unacc</td>\n",
       "    </tr>\n",
       "  </tbody>\n",
       "</table>\n",
       "</div>"
      ],
      "text/plain": [
       "       0      1  2  3      4     5      6\n",
       "0  vhigh  vhigh  2  2  small   low  unacc\n",
       "1  vhigh  vhigh  2  2  small   med  unacc\n",
       "2  vhigh  vhigh  2  2  small  high  unacc\n",
       "3  vhigh  vhigh  2  2    med   low  unacc\n",
       "4  vhigh  vhigh  2  2    med   med  unacc"
      ]
     },
     "execution_count": 5,
     "metadata": {},
     "output_type": "execute_result"
    }
   ],
   "source": [
    "# preview the dataset\n",
    "\n",
    "df.head()"
   ]
  },
  {
   "cell_type": "markdown",
   "id": "c016369e",
   "metadata": {
    "papermill": {
     "duration": 0.043472,
     "end_time": "2022-05-18T10:30:36.858293",
     "exception": false,
     "start_time": "2022-05-18T10:30:36.814821",
     "status": "completed"
    },
    "tags": []
   },
   "source": [
    "### Rename column names\n",
    "\n",
    "We can see that the dataset does not have proper column names."
   ]
  },
  {
   "cell_type": "code",
   "execution_count": 6,
   "id": "8c194d0c",
   "metadata": {
    "execution": {
     "iopub.execute_input": "2022-05-18T10:30:36.951150Z",
     "iopub.status.busy": "2022-05-18T10:30:36.950586Z",
     "iopub.status.idle": "2022-05-18T10:30:36.956273Z",
     "shell.execute_reply": "2022-05-18T10:30:36.955633Z"
    },
    "papermill": {
     "duration": 0.053376,
     "end_time": "2022-05-18T10:30:36.958068",
     "exception": false,
     "start_time": "2022-05-18T10:30:36.904692",
     "status": "completed"
    },
    "tags": []
   },
   "outputs": [
    {
     "data": {
      "text/plain": [
       "['buying', 'maint', 'doors', 'persons', 'lug_boot', 'safety', 'class']"
      ]
     },
     "execution_count": 6,
     "metadata": {},
     "output_type": "execute_result"
    }
   ],
   "source": [
    "col_names = ['buying', 'maint', 'doors', 'persons', 'lug_boot', 'safety', 'class']\n",
    "df.columns = col_names\n",
    "col_names"
   ]
  },
  {
   "cell_type": "code",
   "execution_count": 7,
   "id": "61a7b559",
   "metadata": {
    "execution": {
     "iopub.execute_input": "2022-05-18T10:30:37.052603Z",
     "iopub.status.busy": "2022-05-18T10:30:37.052003Z",
     "iopub.status.idle": "2022-05-18T10:30:37.063475Z",
     "shell.execute_reply": "2022-05-18T10:30:37.062522Z"
    },
    "papermill": {
     "duration": 0.061155,
     "end_time": "2022-05-18T10:30:37.065609",
     "exception": false,
     "start_time": "2022-05-18T10:30:37.004454",
     "status": "completed"
    },
    "tags": []
   },
   "outputs": [
    {
     "data": {
      "text/html": [
       "<div>\n",
       "<style scoped>\n",
       "    .dataframe tbody tr th:only-of-type {\n",
       "        vertical-align: middle;\n",
       "    }\n",
       "\n",
       "    .dataframe tbody tr th {\n",
       "        vertical-align: top;\n",
       "    }\n",
       "\n",
       "    .dataframe thead th {\n",
       "        text-align: right;\n",
       "    }\n",
       "</style>\n",
       "<table border=\"1\" class=\"dataframe\">\n",
       "  <thead>\n",
       "    <tr style=\"text-align: right;\">\n",
       "      <th></th>\n",
       "      <th>buying</th>\n",
       "      <th>maint</th>\n",
       "      <th>doors</th>\n",
       "      <th>persons</th>\n",
       "      <th>lug_boot</th>\n",
       "      <th>safety</th>\n",
       "      <th>class</th>\n",
       "    </tr>\n",
       "  </thead>\n",
       "  <tbody>\n",
       "    <tr>\n",
       "      <th>0</th>\n",
       "      <td>vhigh</td>\n",
       "      <td>vhigh</td>\n",
       "      <td>2</td>\n",
       "      <td>2</td>\n",
       "      <td>small</td>\n",
       "      <td>low</td>\n",
       "      <td>unacc</td>\n",
       "    </tr>\n",
       "    <tr>\n",
       "      <th>1</th>\n",
       "      <td>vhigh</td>\n",
       "      <td>vhigh</td>\n",
       "      <td>2</td>\n",
       "      <td>2</td>\n",
       "      <td>small</td>\n",
       "      <td>med</td>\n",
       "      <td>unacc</td>\n",
       "    </tr>\n",
       "    <tr>\n",
       "      <th>2</th>\n",
       "      <td>vhigh</td>\n",
       "      <td>vhigh</td>\n",
       "      <td>2</td>\n",
       "      <td>2</td>\n",
       "      <td>small</td>\n",
       "      <td>high</td>\n",
       "      <td>unacc</td>\n",
       "    </tr>\n",
       "    <tr>\n",
       "      <th>3</th>\n",
       "      <td>vhigh</td>\n",
       "      <td>vhigh</td>\n",
       "      <td>2</td>\n",
       "      <td>2</td>\n",
       "      <td>med</td>\n",
       "      <td>low</td>\n",
       "      <td>unacc</td>\n",
       "    </tr>\n",
       "    <tr>\n",
       "      <th>4</th>\n",
       "      <td>vhigh</td>\n",
       "      <td>vhigh</td>\n",
       "      <td>2</td>\n",
       "      <td>2</td>\n",
       "      <td>med</td>\n",
       "      <td>med</td>\n",
       "      <td>unacc</td>\n",
       "    </tr>\n",
       "  </tbody>\n",
       "</table>\n",
       "</div>"
      ],
      "text/plain": [
       "  buying  maint doors persons lug_boot safety  class\n",
       "0  vhigh  vhigh     2       2    small    low  unacc\n",
       "1  vhigh  vhigh     2       2    small    med  unacc\n",
       "2  vhigh  vhigh     2       2    small   high  unacc\n",
       "3  vhigh  vhigh     2       2      med    low  unacc\n",
       "4  vhigh  vhigh     2       2      med    med  unacc"
      ]
     },
     "execution_count": 7,
     "metadata": {},
     "output_type": "execute_result"
    }
   ],
   "source": [
    "# let's again preview the dataset\n",
    "df.head()"
   ]
  },
  {
   "cell_type": "markdown",
   "id": "934d0bc1",
   "metadata": {
    "papermill": {
     "duration": 0.044587,
     "end_time": "2022-05-18T10:30:37.155315",
     "exception": false,
     "start_time": "2022-05-18T10:30:37.110728",
     "status": "completed"
    },
    "tags": []
   },
   "source": [
    "We can see that the column names are renamed. Now, the columns have meaningful names."
   ]
  },
  {
   "cell_type": "markdown",
   "id": "4295f3fb",
   "metadata": {
    "papermill": {
     "duration": 0.044804,
     "end_time": "2022-05-18T10:30:37.246109",
     "exception": false,
     "start_time": "2022-05-18T10:30:37.201305",
     "status": "completed"
    },
    "tags": []
   },
   "source": [
    "### View summary of dataset"
   ]
  },
  {
   "cell_type": "code",
   "execution_count": 8,
   "id": "18bc7b65",
   "metadata": {
    "execution": {
     "iopub.execute_input": "2022-05-18T10:30:37.339482Z",
     "iopub.status.busy": "2022-05-18T10:30:37.338878Z",
     "iopub.status.idle": "2022-05-18T10:30:37.360726Z",
     "shell.execute_reply": "2022-05-18T10:30:37.359684Z"
    },
    "papermill": {
     "duration": 0.07127,
     "end_time": "2022-05-18T10:30:37.362765",
     "exception": false,
     "start_time": "2022-05-18T10:30:37.291495",
     "status": "completed"
    },
    "tags": []
   },
   "outputs": [
    {
     "name": "stdout",
     "output_type": "stream",
     "text": [
      "<class 'pandas.core.frame.DataFrame'>\n",
      "RangeIndex: 1728 entries, 0 to 1727\n",
      "Data columns (total 7 columns):\n",
      " #   Column    Non-Null Count  Dtype \n",
      "---  ------    --------------  ----- \n",
      " 0   buying    1728 non-null   object\n",
      " 1   maint     1728 non-null   object\n",
      " 2   doors     1728 non-null   object\n",
      " 3   persons   1728 non-null   object\n",
      " 4   lug_boot  1728 non-null   object\n",
      " 5   safety    1728 non-null   object\n",
      " 6   class     1728 non-null   object\n",
      "dtypes: object(7)\n",
      "memory usage: 94.6+ KB\n"
     ]
    }
   ],
   "source": [
    "df.info()"
   ]
  },
  {
   "cell_type": "markdown",
   "id": "0a1053e8",
   "metadata": {
    "papermill": {
     "duration": 0.045426,
     "end_time": "2022-05-18T10:30:37.456931",
     "exception": false,
     "start_time": "2022-05-18T10:30:37.411505",
     "status": "completed"
    },
    "tags": []
   },
   "source": [
    "### Frequency distribution of values in variables\n",
    "\n",
    "Now, I will check the frequency counts of categorical variables."
   ]
  },
  {
   "cell_type": "code",
   "execution_count": 9,
   "id": "239fe61e",
   "metadata": {
    "execution": {
     "iopub.execute_input": "2022-05-18T10:30:37.552183Z",
     "iopub.status.busy": "2022-05-18T10:30:37.551647Z",
     "iopub.status.idle": "2022-05-18T10:30:37.566918Z",
     "shell.execute_reply": "2022-05-18T10:30:37.566047Z"
    },
    "papermill": {
     "duration": 0.065193,
     "end_time": "2022-05-18T10:30:37.569022",
     "exception": false,
     "start_time": "2022-05-18T10:30:37.503829",
     "status": "completed"
    },
    "tags": []
   },
   "outputs": [
    {
     "name": "stdout",
     "output_type": "stream",
     "text": [
      "vhigh    432\n",
      "high     432\n",
      "med      432\n",
      "low      432\n",
      "Name: buying, dtype: int64\n",
      "vhigh    432\n",
      "high     432\n",
      "med      432\n",
      "low      432\n",
      "Name: maint, dtype: int64\n",
      "2        432\n",
      "3        432\n",
      "4        432\n",
      "5more    432\n",
      "Name: doors, dtype: int64\n",
      "2       576\n",
      "4       576\n",
      "more    576\n",
      "Name: persons, dtype: int64\n",
      "small    576\n",
      "med      576\n",
      "big      576\n",
      "Name: lug_boot, dtype: int64\n",
      "low     576\n",
      "med     576\n",
      "high    576\n",
      "Name: safety, dtype: int64\n",
      "unacc    1210\n",
      "acc       384\n",
      "good       69\n",
      "vgood      65\n",
      "Name: class, dtype: int64\n"
     ]
    }
   ],
   "source": [
    "col_names = ['buying', 'maint', 'doors', 'persons', 'lug_boot', 'safety', 'class']\n",
    "\n",
    "\n",
    "for col in col_names:\n",
    "    \n",
    "    print(df[col].value_counts())   \n"
   ]
  },
  {
   "cell_type": "markdown",
   "id": "e1afd9e5",
   "metadata": {
    "papermill": {
     "duration": 0.047091,
     "end_time": "2022-05-18T10:30:37.662581",
     "exception": false,
     "start_time": "2022-05-18T10:30:37.615490",
     "status": "completed"
    },
    "tags": []
   },
   "source": [
    "We can see that the `doors` and `persons` are categorical in nature. So, I will treat them as categorical variables."
   ]
  },
  {
   "cell_type": "markdown",
   "id": "fb78747f",
   "metadata": {
    "papermill": {
     "duration": 0.047692,
     "end_time": "2022-05-18T10:30:37.757519",
     "exception": false,
     "start_time": "2022-05-18T10:30:37.709827",
     "status": "completed"
    },
    "tags": []
   },
   "source": [
    "### Summary of variables\n",
    "\n",
    "\n",
    "- There are 7 variables in the dataset. All the variables are of categorical data type.\n",
    "\n",
    "\n",
    "- These are given by `buying`, `maint`, `doors`, `persons`, `lug_boot`, `safety` and `class`.\n",
    "\n",
    "\n",
    "- `class` is the target variable."
   ]
  },
  {
   "cell_type": "markdown",
   "id": "4cbe62d8",
   "metadata": {
    "papermill": {
     "duration": 0.045734,
     "end_time": "2022-05-18T10:30:37.849900",
     "exception": false,
     "start_time": "2022-05-18T10:30:37.804166",
     "status": "completed"
    },
    "tags": []
   },
   "source": [
    "### Explore `class` variable"
   ]
  },
  {
   "cell_type": "code",
   "execution_count": 10,
   "id": "56e16d87",
   "metadata": {
    "execution": {
     "iopub.execute_input": "2022-05-18T10:30:37.945291Z",
     "iopub.status.busy": "2022-05-18T10:30:37.944870Z",
     "iopub.status.idle": "2022-05-18T10:30:37.952188Z",
     "shell.execute_reply": "2022-05-18T10:30:37.951507Z"
    },
    "papermill": {
     "duration": 0.058785,
     "end_time": "2022-05-18T10:30:37.954162",
     "exception": false,
     "start_time": "2022-05-18T10:30:37.895377",
     "status": "completed"
    },
    "tags": []
   },
   "outputs": [
    {
     "data": {
      "text/plain": [
       "unacc    1210\n",
       "acc       384\n",
       "good       69\n",
       "vgood      65\n",
       "Name: class, dtype: int64"
      ]
     },
     "execution_count": 10,
     "metadata": {},
     "output_type": "execute_result"
    }
   ],
   "source": [
    "df['class'].value_counts()"
   ]
  },
  {
   "cell_type": "markdown",
   "id": "50fa4ca9",
   "metadata": {
    "papermill": {
     "duration": 0.047207,
     "end_time": "2022-05-18T10:30:38.047128",
     "exception": false,
     "start_time": "2022-05-18T10:30:37.999921",
     "status": "completed"
    },
    "tags": []
   },
   "source": [
    "The `class` target variable is ordinal in nature."
   ]
  },
  {
   "cell_type": "markdown",
   "id": "221fa086",
   "metadata": {
    "papermill": {
     "duration": 0.047541,
     "end_time": "2022-05-18T10:30:38.141811",
     "exception": false,
     "start_time": "2022-05-18T10:30:38.094270",
     "status": "completed"
    },
    "tags": []
   },
   "source": [
    "### Missing values in variables"
   ]
  },
  {
   "cell_type": "code",
   "execution_count": 11,
   "id": "88921f21",
   "metadata": {
    "execution": {
     "iopub.execute_input": "2022-05-18T10:30:38.235948Z",
     "iopub.status.busy": "2022-05-18T10:30:38.235017Z",
     "iopub.status.idle": "2022-05-18T10:30:38.243432Z",
     "shell.execute_reply": "2022-05-18T10:30:38.242721Z"
    },
    "papermill": {
     "duration": 0.057467,
     "end_time": "2022-05-18T10:30:38.245416",
     "exception": false,
     "start_time": "2022-05-18T10:30:38.187949",
     "status": "completed"
    },
    "tags": []
   },
   "outputs": [
    {
     "data": {
      "text/plain": [
       "buying      0\n",
       "maint       0\n",
       "doors       0\n",
       "persons     0\n",
       "lug_boot    0\n",
       "safety      0\n",
       "class       0\n",
       "dtype: int64"
      ]
     },
     "execution_count": 11,
     "metadata": {},
     "output_type": "execute_result"
    }
   ],
   "source": [
    "# check missing values in variables\n",
    "\n",
    "df.isnull().sum()"
   ]
  },
  {
   "cell_type": "markdown",
   "id": "5449c50a",
   "metadata": {
    "papermill": {
     "duration": 0.047459,
     "end_time": "2022-05-18T10:30:38.338711",
     "exception": false,
     "start_time": "2022-05-18T10:30:38.291252",
     "status": "completed"
    },
    "tags": []
   },
   "source": [
    "We can see that there are no missing values in the dataset. I have checked the frequency distribution of values previously. It also confirms that there are no missing values in the dataset."
   ]
  },
  {
   "cell_type": "markdown",
   "id": "52bdd66b",
   "metadata": {
    "papermill": {
     "duration": 0.045959,
     "end_time": "2022-05-18T10:30:38.431429",
     "exception": false,
     "start_time": "2022-05-18T10:30:38.385470",
     "status": "completed"
    },
    "tags": []
   },
   "source": [
    "# **4. Declare feature vector and target variable** <a class=\"anchor\" id=\"10\"></a>\n"
   ]
  },
  {
   "cell_type": "code",
   "execution_count": 12,
   "id": "346d3456",
   "metadata": {
    "execution": {
     "iopub.execute_input": "2022-05-18T10:30:38.528610Z",
     "iopub.status.busy": "2022-05-18T10:30:38.527410Z",
     "iopub.status.idle": "2022-05-18T10:30:38.533835Z",
     "shell.execute_reply": "2022-05-18T10:30:38.533139Z"
    },
    "papermill": {
     "duration": 0.056493,
     "end_time": "2022-05-18T10:30:38.536057",
     "exception": false,
     "start_time": "2022-05-18T10:30:38.479564",
     "status": "completed"
    },
    "tags": []
   },
   "outputs": [],
   "source": [
    "X = df.drop(['class'], axis=1)\n",
    "\n",
    "y = df['class']"
   ]
  },
  {
   "cell_type": "markdown",
   "id": "d4be4931",
   "metadata": {
    "papermill": {
     "duration": 0.046872,
     "end_time": "2022-05-18T10:30:38.630573",
     "exception": false,
     "start_time": "2022-05-18T10:30:38.583701",
     "status": "completed"
    },
    "tags": []
   },
   "source": [
    "# **5. Split data into separate training and test set** <a class=\"anchor\" id=\"11\"></a>\n"
   ]
  },
  {
   "cell_type": "code",
   "execution_count": 13,
   "id": "20a175c6",
   "metadata": {
    "execution": {
     "iopub.execute_input": "2022-05-18T10:30:38.727181Z",
     "iopub.status.busy": "2022-05-18T10:30:38.726905Z",
     "iopub.status.idle": "2022-05-18T10:30:38.994083Z",
     "shell.execute_reply": "2022-05-18T10:30:38.993141Z"
    },
    "papermill": {
     "duration": 0.31759,
     "end_time": "2022-05-18T10:30:38.996582",
     "exception": false,
     "start_time": "2022-05-18T10:30:38.678992",
     "status": "completed"
    },
    "tags": []
   },
   "outputs": [],
   "source": [
    "# split X and y into training and testing sets\n",
    "\n",
    "from sklearn.model_selection import train_test_split\n",
    "\n",
    "X_train, X_test, y_train, y_test = train_test_split(X, y, test_size = 0.33, random_state = 42)\n"
   ]
  },
  {
   "cell_type": "code",
   "execution_count": 14,
   "id": "b73c72b6",
   "metadata": {
    "execution": {
     "iopub.execute_input": "2022-05-18T10:30:39.095150Z",
     "iopub.status.busy": "2022-05-18T10:30:39.094832Z",
     "iopub.status.idle": "2022-05-18T10:30:39.100105Z",
     "shell.execute_reply": "2022-05-18T10:30:39.099495Z"
    },
    "papermill": {
     "duration": 0.054248,
     "end_time": "2022-05-18T10:30:39.101868",
     "exception": false,
     "start_time": "2022-05-18T10:30:39.047620",
     "status": "completed"
    },
    "tags": []
   },
   "outputs": [
    {
     "data": {
      "text/plain": [
       "((1157, 6), (571, 6))"
      ]
     },
     "execution_count": 14,
     "metadata": {},
     "output_type": "execute_result"
    }
   ],
   "source": [
    "# check the shape of X_train and X_test\n",
    "\n",
    "X_train.shape, X_test.shape"
   ]
  },
  {
   "cell_type": "markdown",
   "id": "0bdbcec2",
   "metadata": {
    "papermill": {
     "duration": 0.048192,
     "end_time": "2022-05-18T10:30:39.198075",
     "exception": false,
     "start_time": "2022-05-18T10:30:39.149883",
     "status": "completed"
    },
    "tags": []
   },
   "source": [
    "# **6. Feature Engineering** <a class=\"anchor\" id=\"12\"></a>\n",
    "\n",
    "\n",
    "\n",
    "**Feature Engineering** is the process of transforming raw data into useful features that help us to understand our model better and increase its predictive power. I will carry out feature engineering on different types of variables.\n",
    "\n",
    "\n",
    "First, I will check the data types of variables again."
   ]
  },
  {
   "cell_type": "code",
   "execution_count": 15,
   "id": "2cbef289",
   "metadata": {
    "execution": {
     "iopub.execute_input": "2022-05-18T10:30:39.296529Z",
     "iopub.status.busy": "2022-05-18T10:30:39.295684Z",
     "iopub.status.idle": "2022-05-18T10:30:39.303731Z",
     "shell.execute_reply": "2022-05-18T10:30:39.302802Z"
    },
    "papermill": {
     "duration": 0.059814,
     "end_time": "2022-05-18T10:30:39.305909",
     "exception": false,
     "start_time": "2022-05-18T10:30:39.246095",
     "status": "completed"
    },
    "tags": []
   },
   "outputs": [
    {
     "data": {
      "text/plain": [
       "buying      object\n",
       "maint       object\n",
       "doors       object\n",
       "persons     object\n",
       "lug_boot    object\n",
       "safety      object\n",
       "dtype: object"
      ]
     },
     "execution_count": 15,
     "metadata": {},
     "output_type": "execute_result"
    }
   ],
   "source": [
    "# check data types in X_train\n",
    "\n",
    "X_train.dtypes"
   ]
  },
  {
   "cell_type": "markdown",
   "id": "ac06af28",
   "metadata": {
    "papermill": {
     "duration": 0.046126,
     "end_time": "2022-05-18T10:30:39.398528",
     "exception": false,
     "start_time": "2022-05-18T10:30:39.352402",
     "status": "completed"
    },
    "tags": []
   },
   "source": [
    "### Encode categorical variables\n",
    "\n",
    "\n",
    "Now, I will encode the categorical variables."
   ]
  },
  {
   "cell_type": "code",
   "execution_count": 16,
   "id": "66728473",
   "metadata": {
    "execution": {
     "iopub.execute_input": "2022-05-18T10:30:39.493751Z",
     "iopub.status.busy": "2022-05-18T10:30:39.493474Z",
     "iopub.status.idle": "2022-05-18T10:30:39.504410Z",
     "shell.execute_reply": "2022-05-18T10:30:39.503734Z"
    },
    "papermill": {
     "duration": 0.061277,
     "end_time": "2022-05-18T10:30:39.506276",
     "exception": false,
     "start_time": "2022-05-18T10:30:39.444999",
     "status": "completed"
    },
    "tags": []
   },
   "outputs": [
    {
     "data": {
      "text/html": [
       "<div>\n",
       "<style scoped>\n",
       "    .dataframe tbody tr th:only-of-type {\n",
       "        vertical-align: middle;\n",
       "    }\n",
       "\n",
       "    .dataframe tbody tr th {\n",
       "        vertical-align: top;\n",
       "    }\n",
       "\n",
       "    .dataframe thead th {\n",
       "        text-align: right;\n",
       "    }\n",
       "</style>\n",
       "<table border=\"1\" class=\"dataframe\">\n",
       "  <thead>\n",
       "    <tr style=\"text-align: right;\">\n",
       "      <th></th>\n",
       "      <th>buying</th>\n",
       "      <th>maint</th>\n",
       "      <th>doors</th>\n",
       "      <th>persons</th>\n",
       "      <th>lug_boot</th>\n",
       "      <th>safety</th>\n",
       "    </tr>\n",
       "  </thead>\n",
       "  <tbody>\n",
       "    <tr>\n",
       "      <th>48</th>\n",
       "      <td>vhigh</td>\n",
       "      <td>vhigh</td>\n",
       "      <td>3</td>\n",
       "      <td>more</td>\n",
       "      <td>med</td>\n",
       "      <td>low</td>\n",
       "    </tr>\n",
       "    <tr>\n",
       "      <th>468</th>\n",
       "      <td>high</td>\n",
       "      <td>vhigh</td>\n",
       "      <td>3</td>\n",
       "      <td>4</td>\n",
       "      <td>small</td>\n",
       "      <td>low</td>\n",
       "    </tr>\n",
       "    <tr>\n",
       "      <th>155</th>\n",
       "      <td>vhigh</td>\n",
       "      <td>high</td>\n",
       "      <td>3</td>\n",
       "      <td>more</td>\n",
       "      <td>small</td>\n",
       "      <td>high</td>\n",
       "    </tr>\n",
       "    <tr>\n",
       "      <th>1721</th>\n",
       "      <td>low</td>\n",
       "      <td>low</td>\n",
       "      <td>5more</td>\n",
       "      <td>more</td>\n",
       "      <td>small</td>\n",
       "      <td>high</td>\n",
       "    </tr>\n",
       "    <tr>\n",
       "      <th>1208</th>\n",
       "      <td>med</td>\n",
       "      <td>low</td>\n",
       "      <td>2</td>\n",
       "      <td>more</td>\n",
       "      <td>small</td>\n",
       "      <td>high</td>\n",
       "    </tr>\n",
       "  </tbody>\n",
       "</table>\n",
       "</div>"
      ],
      "text/plain": [
       "     buying  maint  doors persons lug_boot safety\n",
       "48    vhigh  vhigh      3    more      med    low\n",
       "468    high  vhigh      3       4    small    low\n",
       "155   vhigh   high      3    more    small   high\n",
       "1721    low    low  5more    more    small   high\n",
       "1208    med    low      2    more    small   high"
      ]
     },
     "execution_count": 16,
     "metadata": {},
     "output_type": "execute_result"
    }
   ],
   "source": [
    "X_train.head()"
   ]
  },
  {
   "cell_type": "markdown",
   "id": "98be1bf0",
   "metadata": {
    "papermill": {
     "duration": 0.048365,
     "end_time": "2022-05-18T10:30:39.602321",
     "exception": false,
     "start_time": "2022-05-18T10:30:39.553956",
     "status": "completed"
    },
    "tags": []
   },
   "source": [
    "We can see that all  the variables are ordinal categorical data type."
   ]
  },
  {
   "cell_type": "code",
   "execution_count": 17,
   "id": "98fb2483",
   "metadata": {
    "execution": {
     "iopub.execute_input": "2022-05-18T10:30:39.704365Z",
     "iopub.status.busy": "2022-05-18T10:30:39.703537Z",
     "iopub.status.idle": "2022-05-18T10:30:39.934293Z",
     "shell.execute_reply": "2022-05-18T10:30:39.933055Z"
    },
    "papermill": {
     "duration": 0.283191,
     "end_time": "2022-05-18T10:30:39.936688",
     "exception": false,
     "start_time": "2022-05-18T10:30:39.653497",
     "status": "completed"
    },
    "tags": []
   },
   "outputs": [],
   "source": [
    "# import category encoders\n",
    "\n",
    "import category_encoders as ce"
   ]
  },
  {
   "cell_type": "code",
   "execution_count": 18,
   "id": "c024ccaa",
   "metadata": {
    "execution": {
     "iopub.execute_input": "2022-05-18T10:30:40.033504Z",
     "iopub.status.busy": "2022-05-18T10:30:40.032483Z",
     "iopub.status.idle": "2022-05-18T10:30:40.074189Z",
     "shell.execute_reply": "2022-05-18T10:30:40.073082Z"
    },
    "papermill": {
     "duration": 0.092448,
     "end_time": "2022-05-18T10:30:40.076606",
     "exception": false,
     "start_time": "2022-05-18T10:30:39.984158",
     "status": "completed"
    },
    "tags": []
   },
   "outputs": [],
   "source": [
    "# encode variables with ordinal encoding\n",
    "\n",
    "encoder = ce.OrdinalEncoder(cols=['buying', 'maint', 'doors', 'persons', 'lug_boot', 'safety'])\n",
    "\n",
    "\n",
    "X_train = encoder.fit_transform(X_train)\n",
    "\n",
    "X_test = encoder.transform(X_test)"
   ]
  },
  {
   "cell_type": "code",
   "execution_count": 19,
   "id": "51915433",
   "metadata": {
    "execution": {
     "iopub.execute_input": "2022-05-18T10:30:40.175479Z",
     "iopub.status.busy": "2022-05-18T10:30:40.174804Z",
     "iopub.status.idle": "2022-05-18T10:30:40.185603Z",
     "shell.execute_reply": "2022-05-18T10:30:40.184732Z"
    },
    "papermill": {
     "duration": 0.063007,
     "end_time": "2022-05-18T10:30:40.187453",
     "exception": false,
     "start_time": "2022-05-18T10:30:40.124446",
     "status": "completed"
    },
    "tags": []
   },
   "outputs": [
    {
     "data": {
      "text/html": [
       "<div>\n",
       "<style scoped>\n",
       "    .dataframe tbody tr th:only-of-type {\n",
       "        vertical-align: middle;\n",
       "    }\n",
       "\n",
       "    .dataframe tbody tr th {\n",
       "        vertical-align: top;\n",
       "    }\n",
       "\n",
       "    .dataframe thead th {\n",
       "        text-align: right;\n",
       "    }\n",
       "</style>\n",
       "<table border=\"1\" class=\"dataframe\">\n",
       "  <thead>\n",
       "    <tr style=\"text-align: right;\">\n",
       "      <th></th>\n",
       "      <th>buying</th>\n",
       "      <th>maint</th>\n",
       "      <th>doors</th>\n",
       "      <th>persons</th>\n",
       "      <th>lug_boot</th>\n",
       "      <th>safety</th>\n",
       "    </tr>\n",
       "  </thead>\n",
       "  <tbody>\n",
       "    <tr>\n",
       "      <th>48</th>\n",
       "      <td>1</td>\n",
       "      <td>1</td>\n",
       "      <td>1</td>\n",
       "      <td>1</td>\n",
       "      <td>1</td>\n",
       "      <td>1</td>\n",
       "    </tr>\n",
       "    <tr>\n",
       "      <th>468</th>\n",
       "      <td>2</td>\n",
       "      <td>1</td>\n",
       "      <td>1</td>\n",
       "      <td>2</td>\n",
       "      <td>2</td>\n",
       "      <td>1</td>\n",
       "    </tr>\n",
       "    <tr>\n",
       "      <th>155</th>\n",
       "      <td>1</td>\n",
       "      <td>2</td>\n",
       "      <td>1</td>\n",
       "      <td>1</td>\n",
       "      <td>2</td>\n",
       "      <td>2</td>\n",
       "    </tr>\n",
       "    <tr>\n",
       "      <th>1721</th>\n",
       "      <td>3</td>\n",
       "      <td>3</td>\n",
       "      <td>2</td>\n",
       "      <td>1</td>\n",
       "      <td>2</td>\n",
       "      <td>2</td>\n",
       "    </tr>\n",
       "    <tr>\n",
       "      <th>1208</th>\n",
       "      <td>4</td>\n",
       "      <td>3</td>\n",
       "      <td>3</td>\n",
       "      <td>1</td>\n",
       "      <td>2</td>\n",
       "      <td>2</td>\n",
       "    </tr>\n",
       "  </tbody>\n",
       "</table>\n",
       "</div>"
      ],
      "text/plain": [
       "      buying  maint  doors  persons  lug_boot  safety\n",
       "48         1      1      1        1         1       1\n",
       "468        2      1      1        2         2       1\n",
       "155        1      2      1        1         2       2\n",
       "1721       3      3      2        1         2       2\n",
       "1208       4      3      3        1         2       2"
      ]
     },
     "execution_count": 19,
     "metadata": {},
     "output_type": "execute_result"
    }
   ],
   "source": [
    "X_train.head()"
   ]
  },
  {
   "cell_type": "code",
   "execution_count": 20,
   "id": "ab7fd612",
   "metadata": {
    "execution": {
     "iopub.execute_input": "2022-05-18T10:30:40.286126Z",
     "iopub.status.busy": "2022-05-18T10:30:40.285662Z",
     "iopub.status.idle": "2022-05-18T10:30:40.294360Z",
     "shell.execute_reply": "2022-05-18T10:30:40.293697Z"
    },
    "papermill": {
     "duration": 0.059551,
     "end_time": "2022-05-18T10:30:40.296245",
     "exception": false,
     "start_time": "2022-05-18T10:30:40.236694",
     "status": "completed"
    },
    "tags": []
   },
   "outputs": [
    {
     "data": {
      "text/html": [
       "<div>\n",
       "<style scoped>\n",
       "    .dataframe tbody tr th:only-of-type {\n",
       "        vertical-align: middle;\n",
       "    }\n",
       "\n",
       "    .dataframe tbody tr th {\n",
       "        vertical-align: top;\n",
       "    }\n",
       "\n",
       "    .dataframe thead th {\n",
       "        text-align: right;\n",
       "    }\n",
       "</style>\n",
       "<table border=\"1\" class=\"dataframe\">\n",
       "  <thead>\n",
       "    <tr style=\"text-align: right;\">\n",
       "      <th></th>\n",
       "      <th>buying</th>\n",
       "      <th>maint</th>\n",
       "      <th>doors</th>\n",
       "      <th>persons</th>\n",
       "      <th>lug_boot</th>\n",
       "      <th>safety</th>\n",
       "    </tr>\n",
       "  </thead>\n",
       "  <tbody>\n",
       "    <tr>\n",
       "      <th>599</th>\n",
       "      <td>2</td>\n",
       "      <td>2</td>\n",
       "      <td>4</td>\n",
       "      <td>3</td>\n",
       "      <td>1</td>\n",
       "      <td>2</td>\n",
       "    </tr>\n",
       "    <tr>\n",
       "      <th>1201</th>\n",
       "      <td>4</td>\n",
       "      <td>3</td>\n",
       "      <td>3</td>\n",
       "      <td>2</td>\n",
       "      <td>1</td>\n",
       "      <td>3</td>\n",
       "    </tr>\n",
       "    <tr>\n",
       "      <th>628</th>\n",
       "      <td>2</td>\n",
       "      <td>2</td>\n",
       "      <td>2</td>\n",
       "      <td>3</td>\n",
       "      <td>3</td>\n",
       "      <td>3</td>\n",
       "    </tr>\n",
       "    <tr>\n",
       "      <th>1498</th>\n",
       "      <td>3</td>\n",
       "      <td>2</td>\n",
       "      <td>2</td>\n",
       "      <td>2</td>\n",
       "      <td>1</td>\n",
       "      <td>3</td>\n",
       "    </tr>\n",
       "    <tr>\n",
       "      <th>1263</th>\n",
       "      <td>4</td>\n",
       "      <td>3</td>\n",
       "      <td>4</td>\n",
       "      <td>1</td>\n",
       "      <td>1</td>\n",
       "      <td>1</td>\n",
       "    </tr>\n",
       "  </tbody>\n",
       "</table>\n",
       "</div>"
      ],
      "text/plain": [
       "      buying  maint  doors  persons  lug_boot  safety\n",
       "599        2      2      4        3         1       2\n",
       "1201       4      3      3        2         1       3\n",
       "628        2      2      2        3         3       3\n",
       "1498       3      2      2        2         1       3\n",
       "1263       4      3      4        1         1       1"
      ]
     },
     "execution_count": 20,
     "metadata": {},
     "output_type": "execute_result"
    }
   ],
   "source": [
    "X_test.head()"
   ]
  },
  {
   "cell_type": "markdown",
   "id": "2f9da970",
   "metadata": {
    "papermill": {
     "duration": 0.049086,
     "end_time": "2022-05-18T10:30:40.394282",
     "exception": false,
     "start_time": "2022-05-18T10:30:40.345196",
     "status": "completed"
    },
    "tags": []
   },
   "source": [
    "We now have training and test set ready for model building. "
   ]
  },
  {
   "cell_type": "markdown",
   "id": "0433eb83",
   "metadata": {
    "papermill": {
     "duration": 0.047292,
     "end_time": "2022-05-18T10:30:40.489187",
     "exception": false,
     "start_time": "2022-05-18T10:30:40.441895",
     "status": "completed"
    },
    "tags": []
   },
   "source": [
    "# **7. Decision Tree Classifier** <a class=\"anchor\" id=\"13\"></a>\n"
   ]
  },
  {
   "cell_type": "code",
   "execution_count": 21,
   "id": "f3683215",
   "metadata": {
    "execution": {
     "iopub.execute_input": "2022-05-18T10:30:40.588647Z",
     "iopub.status.busy": "2022-05-18T10:30:40.587912Z",
     "iopub.status.idle": "2022-05-18T10:30:40.761500Z",
     "shell.execute_reply": "2022-05-18T10:30:40.760542Z"
    },
    "papermill": {
     "duration": 0.22547,
     "end_time": "2022-05-18T10:30:40.763838",
     "exception": false,
     "start_time": "2022-05-18T10:30:40.538368",
     "status": "completed"
    },
    "tags": []
   },
   "outputs": [],
   "source": [
    "# import DecisionTreeClassifier\n",
    "\n",
    "from sklearn.tree import DecisionTreeClassifier\n"
   ]
  },
  {
   "cell_type": "code",
   "execution_count": 22,
   "id": "795cec03",
   "metadata": {
    "execution": {
     "iopub.execute_input": "2022-05-18T10:30:40.862908Z",
     "iopub.status.busy": "2022-05-18T10:30:40.862587Z",
     "iopub.status.idle": "2022-05-18T10:30:40.876607Z",
     "shell.execute_reply": "2022-05-18T10:30:40.875891Z"
    },
    "papermill": {
     "duration": 0.06587,
     "end_time": "2022-05-18T10:30:40.878624",
     "exception": false,
     "start_time": "2022-05-18T10:30:40.812754",
     "status": "completed"
    },
    "tags": []
   },
   "outputs": [
    {
     "data": {
      "text/plain": [
       "DecisionTreeClassifier(max_depth=3, random_state=0)"
      ]
     },
     "execution_count": 22,
     "metadata": {},
     "output_type": "execute_result"
    }
   ],
   "source": [
    "# instantiate the DecisionTreeClassifier model with criterion gini index\n",
    "\n",
    "clf_gini = DecisionTreeClassifier(criterion='gini', max_depth=3, random_state=0)\n",
    "#max_depthint : The maximum depth of the tree. If None, then nodes are expanded until all leaves are pure or until all leaves contain less than min_samples_split samples.\n",
    "# fit the model\n",
    "clf_gini.fit(X_train, y_train)\n"
   ]
  },
  {
   "cell_type": "markdown",
   "id": "19c5bef6",
   "metadata": {
    "papermill": {
     "duration": 0.048504,
     "end_time": "2022-05-18T10:30:40.976475",
     "exception": false,
     "start_time": "2022-05-18T10:30:40.927971",
     "status": "completed"
    },
    "tags": []
   },
   "source": [
    "1- `criterion{“gini”, “entropy”, “log_loss”}`, default=”gini”\n",
    "The function to measure the quality of a split. Supported criteria are “gini” for the Gini impurity and “log_loss” and “entropy” both for the Shannon information gain"
   ]
  },
  {
   "cell_type": "markdown",
   "id": "d4790cb4",
   "metadata": {
    "papermill": {
     "duration": 0.06011,
     "end_time": "2022-05-18T10:30:41.084212",
     "exception": false,
     "start_time": "2022-05-18T10:30:41.024102",
     "status": "completed"
    },
    "tags": []
   },
   "source": [
    "2- `max_depthint, default=None`\n",
    "The maximum depth of the tree. If None, then nodes are expanded until all leaves are pure or until all leaves contain less than min_samples_split samples."
   ]
  },
  {
   "cell_type": "markdown",
   "id": "a4ad4f28",
   "metadata": {
    "papermill": {
     "duration": 0.051676,
     "end_time": "2022-05-18T10:30:41.195491",
     "exception": false,
     "start_time": "2022-05-18T10:30:41.143815",
     "status": "completed"
    },
    "tags": []
   },
   "source": [
    "### Predict the Test set results with criterion gini index"
   ]
  },
  {
   "cell_type": "code",
   "execution_count": 23,
   "id": "efe9f511",
   "metadata": {
    "execution": {
     "iopub.execute_input": "2022-05-18T10:30:41.301653Z",
     "iopub.status.busy": "2022-05-18T10:30:41.300578Z",
     "iopub.status.idle": "2022-05-18T10:30:41.307406Z",
     "shell.execute_reply": "2022-05-18T10:30:41.306628Z"
    },
    "papermill": {
     "duration": 0.060529,
     "end_time": "2022-05-18T10:30:41.309997",
     "exception": false,
     "start_time": "2022-05-18T10:30:41.249468",
     "status": "completed"
    },
    "tags": []
   },
   "outputs": [],
   "source": [
    "y_pred_gini = clf_gini.predict(X_test)\n"
   ]
  },
  {
   "cell_type": "markdown",
   "id": "bad62799",
   "metadata": {
    "papermill": {
     "duration": 0.059828,
     "end_time": "2022-05-18T10:30:41.451902",
     "exception": false,
     "start_time": "2022-05-18T10:30:41.392074",
     "status": "completed"
    },
    "tags": []
   },
   "source": [
    "### Check accuracy score with criterion gini index"
   ]
  },
  {
   "cell_type": "code",
   "execution_count": 24,
   "id": "836b5612",
   "metadata": {
    "execution": {
     "iopub.execute_input": "2022-05-18T10:30:41.557603Z",
     "iopub.status.busy": "2022-05-18T10:30:41.557265Z",
     "iopub.status.idle": "2022-05-18T10:30:41.563583Z",
     "shell.execute_reply": "2022-05-18T10:30:41.562650Z"
    },
    "papermill": {
     "duration": 0.060408,
     "end_time": "2022-05-18T10:30:41.566878",
     "exception": false,
     "start_time": "2022-05-18T10:30:41.506470",
     "status": "completed"
    },
    "tags": []
   },
   "outputs": [
    {
     "name": "stdout",
     "output_type": "stream",
     "text": [
      "Model accuracy score with criterion gini index: 0.8021\n"
     ]
    }
   ],
   "source": [
    "from sklearn.metrics import accuracy_score\n",
    "\n",
    "print('Model accuracy score with criterion gini index: {0:0.4f}'. format(accuracy_score(y_test, y_pred_gini)))"
   ]
  },
  {
   "cell_type": "markdown",
   "id": "522178b9",
   "metadata": {
    "papermill": {
     "duration": 0.051743,
     "end_time": "2022-05-18T10:30:41.667621",
     "exception": false,
     "start_time": "2022-05-18T10:30:41.615878",
     "status": "completed"
    },
    "tags": []
   },
   "source": [
    "Here, **y_test** are the true class labels and **y_pred_gini** are the predicted class labels in the test-set."
   ]
  },
  {
   "cell_type": "markdown",
   "id": "18f12be1",
   "metadata": {
    "papermill": {
     "duration": 0.050203,
     "end_time": "2022-05-18T10:30:41.769223",
     "exception": false,
     "start_time": "2022-05-18T10:30:41.719020",
     "status": "completed"
    },
    "tags": []
   },
   "source": [
    "### Compare the train-set and test-set accuracy\n",
    "\n",
    "\n",
    "Now, I will compare the train-set and test-set accuracy to check for overfitting."
   ]
  },
  {
   "cell_type": "code",
   "execution_count": 25,
   "id": "adc06339",
   "metadata": {
    "execution": {
     "iopub.execute_input": "2022-05-18T10:30:41.870416Z",
     "iopub.status.busy": "2022-05-18T10:30:41.869550Z",
     "iopub.status.idle": "2022-05-18T10:30:41.876984Z",
     "shell.execute_reply": "2022-05-18T10:30:41.876351Z"
    },
    "papermill": {
     "duration": 0.060453,
     "end_time": "2022-05-18T10:30:41.879268",
     "exception": false,
     "start_time": "2022-05-18T10:30:41.818815",
     "status": "completed"
    },
    "tags": []
   },
   "outputs": [
    {
     "data": {
      "text/plain": [
       "array(['unacc', 'unacc', 'unacc', ..., 'unacc', 'unacc', 'acc'],\n",
       "      dtype=object)"
      ]
     },
     "execution_count": 25,
     "metadata": {},
     "output_type": "execute_result"
    }
   ],
   "source": [
    "y_pred_train_gini = clf_gini.predict(X_train)\n",
    "\n",
    "y_pred_train_gini"
   ]
  },
  {
   "cell_type": "code",
   "execution_count": 26,
   "id": "36bc56bd",
   "metadata": {
    "execution": {
     "iopub.execute_input": "2022-05-18T10:30:41.989735Z",
     "iopub.status.busy": "2022-05-18T10:30:41.989436Z",
     "iopub.status.idle": "2022-05-18T10:30:41.996051Z",
     "shell.execute_reply": "2022-05-18T10:30:41.995418Z"
    },
    "papermill": {
     "duration": 0.061688,
     "end_time": "2022-05-18T10:30:41.998001",
     "exception": false,
     "start_time": "2022-05-18T10:30:41.936313",
     "status": "completed"
    },
    "tags": []
   },
   "outputs": [
    {
     "name": "stdout",
     "output_type": "stream",
     "text": [
      "Training-set accuracy score: 0.7865\n"
     ]
    }
   ],
   "source": [
    "print('Training-set accuracy score: {0:0.4f}'. format(accuracy_score(y_train, y_pred_train_gini)))"
   ]
  },
  {
   "cell_type": "markdown",
   "id": "83536b6e",
   "metadata": {
    "papermill": {
     "duration": 0.048856,
     "end_time": "2022-05-18T10:30:42.096406",
     "exception": false,
     "start_time": "2022-05-18T10:30:42.047550",
     "status": "completed"
    },
    "tags": []
   },
   "source": [
    "### Check for overfitting and underfitting"
   ]
  },
  {
   "cell_type": "code",
   "execution_count": 27,
   "id": "67b798ea",
   "metadata": {
    "execution": {
     "iopub.execute_input": "2022-05-18T10:30:42.202090Z",
     "iopub.status.busy": "2022-05-18T10:30:42.201558Z",
     "iopub.status.idle": "2022-05-18T10:30:42.212943Z",
     "shell.execute_reply": "2022-05-18T10:30:42.212189Z"
    },
    "papermill": {
     "duration": 0.066534,
     "end_time": "2022-05-18T10:30:42.215524",
     "exception": false,
     "start_time": "2022-05-18T10:30:42.148990",
     "status": "completed"
    },
    "tags": []
   },
   "outputs": [
    {
     "name": "stdout",
     "output_type": "stream",
     "text": [
      "Training set score: 0.7865\n",
      "Test set score: 0.8021\n"
     ]
    }
   ],
   "source": [
    "# print the scores on training and test set\n",
    "\n",
    "print('Training set score: {:.4f}'.format(clf_gini.score(X_train, y_train)))\n",
    "\n",
    "print('Test set score: {:.4f}'.format(clf_gini.score(X_test, y_test)))"
   ]
  },
  {
   "cell_type": "markdown",
   "id": "86917728",
   "metadata": {
    "papermill": {
     "duration": 0.048756,
     "end_time": "2022-05-18T10:30:42.318193",
     "exception": false,
     "start_time": "2022-05-18T10:30:42.269437",
     "status": "completed"
    },
    "tags": []
   },
   "source": [
    "Here, the training-set accuracy score is 0.7865 while the test-set accuracy to be 0.8021. These two values are quite comparable. So, there is no sign of overfitting. \n"
   ]
  },
  {
   "cell_type": "markdown",
   "id": "7530d8c1",
   "metadata": {
    "papermill": {
     "duration": 0.052345,
     "end_time": "2022-05-18T10:30:42.419582",
     "exception": false,
     "start_time": "2022-05-18T10:30:42.367237",
     "status": "completed"
    },
    "tags": []
   },
   "source": [
    "#### Visualize decision-trees"
   ]
  },
  {
   "cell_type": "code",
   "execution_count": 28,
   "id": "990b8603",
   "metadata": {
    "execution": {
     "iopub.execute_input": "2022-05-18T10:30:42.524356Z",
     "iopub.status.busy": "2022-05-18T10:30:42.523840Z",
     "iopub.status.idle": "2022-05-18T10:30:42.962981Z",
     "shell.execute_reply": "2022-05-18T10:30:42.962234Z"
    },
    "papermill": {
     "duration": 0.493509,
     "end_time": "2022-05-18T10:30:42.965104",
     "exception": false,
     "start_time": "2022-05-18T10:30:42.471595",
     "status": "completed"
    },
    "tags": []
   },
   "outputs": [
    {
     "data": {
      "text/plain": [
       "[Text(0.4, 0.875, 'X[5] <= 1.5\\ngini = 0.455\\nsamples = 1157\\nvalue = [255, 49, 813, 40]'),\n",
       " Text(0.2, 0.625, 'gini = 0.0\\nsamples = 386\\nvalue = [0, 0, 386, 0]'),\n",
       " Text(0.6, 0.625, 'X[3] <= 2.5\\ngini = 0.577\\nsamples = 771\\nvalue = [255, 49, 427, 40]'),\n",
       " Text(0.4, 0.375, 'X[0] <= 2.5\\ngini = 0.631\\nsamples = 525\\nvalue = [255, 49, 181, 40]'),\n",
       " Text(0.2, 0.125, 'gini = 0.496\\nsamples = 271\\nvalue = [124, 0, 147, 0]'),\n",
       " Text(0.6, 0.125, 'gini = 0.654\\nsamples = 254\\nvalue = [131, 49, 34, 40]'),\n",
       " Text(0.8, 0.375, 'gini = 0.0\\nsamples = 246\\nvalue = [0, 0, 246, 0]')]"
      ]
     },
     "execution_count": 28,
     "metadata": {},
     "output_type": "execute_result"
    },
    {
     "data": {
      "image/png": "[encoded data removed]",
      "text/plain": [
       "<Figure size 864x576 with 1 Axes>"
      ]
     },
     "metadata": {
      "needs_background": "light"
     },
     "output_type": "display_data"
    }
   ],
   "source": [
    "plt.figure(figsize=(12,8))\n",
    "\n",
    "from sklearn import tree\n",
    "\n",
    "tree.plot_tree(clf_gini.fit(X_train, y_train))"
   ]
  },
  {
   "cell_type": "markdown",
   "id": "f7e36817",
   "metadata": {
    "papermill": {
     "duration": 0.053466,
     "end_time": "2022-05-18T10:30:43.070605",
     "exception": false,
     "start_time": "2022-05-18T10:30:43.017139",
     "status": "completed"
    },
    "tags": []
   },
   "source": [
    "#### Visualize decision-trees with graphviz\n",
    " "
   ]
  },
  {
   "cell_type": "code",
   "execution_count": 29,
   "id": "f477620d",
   "metadata": {
    "execution": {
     "iopub.execute_input": "2022-05-18T10:30:43.181071Z",
     "iopub.status.busy": "2022-05-18T10:30:43.180783Z",
     "iopub.status.idle": "2022-05-18T10:30:44.342475Z",
     "shell.execute_reply": "2022-05-18T10:30:44.341410Z"
    },
    "papermill": {
     "duration": 1.220771,
     "end_time": "2022-05-18T10:30:44.345038",
     "exception": false,
     "start_time": "2022-05-18T10:30:43.124267",
     "status": "completed"
    },
    "tags": []
   },
   "outputs": [
    {
     "data": {
      "image/svg+xml": [
       "<?xml version=\"1.0\" encoding=\"UTF-8\" standalone=\"no\"?>\n",
       "<!DOCTYPE svg PUBLIC \"-//W3C//DTD SVG 1.1//EN\"\n",
       " \"http://www.w3.org/Graphics/SVG/1.1/DTD/svg11.dtd\">\n",
       "<!-- Generated by graphviz version 2.50.0 (20211209.0339)\n",
       " -->\n",
       "<!-- Title: Tree Pages: 1 -->\n",
       "<svg width=\"490pt\" height=\"433pt\"\n",
       " viewBox=\"0.00 0.00 490.00 433.00\" xmlns=\"http://www.w3.org/2000/svg\" xmlns:xlink=\"http://www.w3.org/1999/xlink\">\n",
       "<g id=\"graph0\" class=\"graph\" transform=\"scale(1 1) rotate(0) translate(4 429)\">\n",
       "<title>Tree</title>\n",
       "<polygon fill=\"white\" stroke=\"transparent\" points=\"-4,4 -4,-429 486,-429 486,4 -4,4\"/>\n",
       "<!-- 0 -->\n",
       "<g id=\"node1\" class=\"node\">\n",
       "<title>0</title>\n",
       "<path fill=\"#85c2ef\" stroke=\"black\" d=\"M285,-425C285,-425 106,-425 106,-425 100,-425 94,-419 94,-413 94,-413 94,-354 94,-354 94,-348 100,-342 106,-342 106,-342 285,-342 285,-342 291,-342 297,-348 297,-354 297,-354 297,-413 297,-413 297,-419 291,-425 285,-425\"/>\n",
       "<text text-anchor=\"start\" x=\"152\" y=\"-409.8\" font-family=\"Helvetica,sans-Serif\" font-size=\"14.00\">safety ≤ 1.5</text>\n",
       "<text text-anchor=\"start\" x=\"151.5\" y=\"-394.8\" font-family=\"Helvetica,sans-Serif\" font-size=\"14.00\">gini = 0.455</text>\n",
       "<text text-anchor=\"start\" x=\"138\" y=\"-379.8\" font-family=\"Helvetica,sans-Serif\" font-size=\"14.00\">samples = 1157</text>\n",
       "<text text-anchor=\"start\" x=\"102\" y=\"-364.8\" font-family=\"Helvetica,sans-Serif\" font-size=\"14.00\">value = [255, 49, 813, 40]</text>\n",
       "<text text-anchor=\"start\" x=\"147\" y=\"-349.8\" font-family=\"Helvetica,sans-Serif\" font-size=\"14.00\">class = unacc</text>\n",
       "</g>\n",
       "<!-- 1 -->\n",
       "<g id=\"node2\" class=\"node\">\n",
       "<title>1</title>\n",
       "<path fill=\"#399de5\" stroke=\"black\" d=\"M166,-298.5C166,-298.5 23,-298.5 23,-298.5 17,-298.5 11,-292.5 11,-286.5 11,-286.5 11,-242.5 11,-242.5 11,-236.5 17,-230.5 23,-230.5 23,-230.5 166,-230.5 166,-230.5 172,-230.5 178,-236.5 178,-242.5 178,-242.5 178,-286.5 178,-286.5 178,-292.5 172,-298.5 166,-298.5\"/>\n",
       "<text text-anchor=\"start\" x=\"59.5\" y=\"-283.3\" font-family=\"Helvetica,sans-Serif\" font-size=\"14.00\">gini = 0.0</text>\n",
       "<text text-anchor=\"start\" x=\"41.5\" y=\"-268.3\" font-family=\"Helvetica,sans-Serif\" font-size=\"14.00\">samples = 386</text>\n",
       "<text text-anchor=\"start\" x=\"19\" y=\"-253.3\" font-family=\"Helvetica,sans-Serif\" font-size=\"14.00\">value = [0, 0, 386, 0]</text>\n",
       "<text text-anchor=\"start\" x=\"46\" y=\"-238.3\" font-family=\"Helvetica,sans-Serif\" font-size=\"14.00\">class = unacc</text>\n",
       "</g>\n",
       "<!-- 0&#45;&gt;1 -->\n",
       "<g id=\"edge1\" class=\"edge\">\n",
       "<title>0&#45;&gt;1</title>\n",
       "<path fill=\"none\" stroke=\"black\" d=\"M160.46,-341.91C150.55,-330.43 139.77,-317.94 129.84,-306.44\"/>\n",
       "<polygon fill=\"black\" stroke=\"black\" points=\"132.32,-303.95 123.13,-298.67 127.02,-308.52 132.32,-303.95\"/>\n",
       "<text text-anchor=\"middle\" x=\"121.3\" y=\"-319.9\" font-family=\"Helvetica,sans-Serif\" font-size=\"14.00\">True</text>\n",
       "</g>\n",
       "<!-- 2 -->\n",
       "<g id=\"node3\" class=\"node\">\n",
       "<title>2</title>\n",
       "<path fill=\"#bddef6\" stroke=\"black\" d=\"M387,-306C387,-306 208,-306 208,-306 202,-306 196,-300 196,-294 196,-294 196,-235 196,-235 196,-229 202,-223 208,-223 208,-223 387,-223 387,-223 393,-223 399,-229 399,-235 399,-235 399,-294 399,-294 399,-300 393,-306 387,-306\"/>\n",
       "<text text-anchor=\"start\" x=\"247.5\" y=\"-290.8\" font-family=\"Helvetica,sans-Serif\" font-size=\"14.00\">persons ≤ 2.5</text>\n",
       "<text text-anchor=\"start\" x=\"253.5\" y=\"-275.8\" font-family=\"Helvetica,sans-Serif\" font-size=\"14.00\">gini = 0.577</text>\n",
       "<text text-anchor=\"start\" x=\"244.5\" y=\"-260.8\" font-family=\"Helvetica,sans-Serif\" font-size=\"14.00\">samples = 771</text>\n",
       "<text text-anchor=\"start\" x=\"204\" y=\"-245.8\" font-family=\"Helvetica,sans-Serif\" font-size=\"14.00\">value = [255, 49, 427, 40]</text>\n",
       "<text text-anchor=\"start\" x=\"249\" y=\"-230.8\" font-family=\"Helvetica,sans-Serif\" font-size=\"14.00\">class = unacc</text>\n",
       "</g>\n",
       "<!-- 0&#45;&gt;2 -->\n",
       "<g id=\"edge2\" class=\"edge\">\n",
       "<title>0&#45;&gt;2</title>\n",
       "<path fill=\"none\" stroke=\"black\" d=\"M230.89,-341.91C238.8,-332.83 247.27,-323.12 255.42,-313.77\"/>\n",
       "<polygon fill=\"black\" stroke=\"black\" points=\"258.24,-315.86 262.17,-306.02 252.96,-311.26 258.24,-315.86\"/>\n",
       "<text text-anchor=\"middle\" x=\"263.88\" y=\"-327.26\" font-family=\"Helvetica,sans-Serif\" font-size=\"14.00\">False</text>\n",
       "</g>\n",
       "<!-- 3 -->\n",
       "<g id=\"node4\" class=\"node\">\n",
       "<title>3</title>\n",
       "<path fill=\"#f9e4d4\" stroke=\"black\" d=\"M285,-187C285,-187 106,-187 106,-187 100,-187 94,-181 94,-175 94,-175 94,-116 94,-116 94,-110 100,-104 106,-104 106,-104 285,-104 285,-104 291,-104 297,-110 297,-116 297,-116 297,-175 297,-175 297,-181 291,-187 285,-187\"/>\n",
       "<text text-anchor=\"start\" x=\"149.5\" y=\"-171.8\" font-family=\"Helvetica,sans-Serif\" font-size=\"14.00\">buying ≤ 2.5</text>\n",
       "<text text-anchor=\"start\" x=\"151.5\" y=\"-156.8\" font-family=\"Helvetica,sans-Serif\" font-size=\"14.00\">gini = 0.631</text>\n",
       "<text text-anchor=\"start\" x=\"142.5\" y=\"-141.8\" font-family=\"Helvetica,sans-Serif\" font-size=\"14.00\">samples = 525</text>\n",
       "<text text-anchor=\"start\" x=\"102\" y=\"-126.8\" font-family=\"Helvetica,sans-Serif\" font-size=\"14.00\">value = [255, 49, 181, 40]</text>\n",
       "<text text-anchor=\"start\" x=\"147\" y=\"-111.8\" font-family=\"Helvetica,sans-Serif\" font-size=\"14.00\">class = unacc</text>\n",
       "</g>\n",
       "<!-- 2&#45;&gt;3 -->\n",
       "<g id=\"edge3\" class=\"edge\">\n",
       "<title>2&#45;&gt;3</title>\n",
       "<path fill=\"none\" stroke=\"black\" d=\"M262.11,-222.91C254.2,-213.83 245.73,-204.12 237.58,-194.77\"/>\n",
       "<polygon fill=\"black\" stroke=\"black\" points=\"240.04,-192.26 230.83,-187.02 234.76,-196.86 240.04,-192.26\"/>\n",
       "</g>\n",
       "<!-- 6 -->\n",
       "<g id=\"node7\" class=\"node\">\n",
       "<title>6</title>\n",
       "<path fill=\"#399de5\" stroke=\"black\" d=\"M470,-179.5C470,-179.5 327,-179.5 327,-179.5 321,-179.5 315,-173.5 315,-167.5 315,-167.5 315,-123.5 315,-123.5 315,-117.5 321,-111.5 327,-111.5 327,-111.5 470,-111.5 470,-111.5 476,-111.5 482,-117.5 482,-123.5 482,-123.5 482,-167.5 482,-167.5 482,-173.5 476,-179.5 470,-179.5\"/>\n",
       "<text text-anchor=\"start\" x=\"363.5\" y=\"-164.3\" font-family=\"Helvetica,sans-Serif\" font-size=\"14.00\">gini = 0.0</text>\n",
       "<text text-anchor=\"start\" x=\"345.5\" y=\"-149.3\" font-family=\"Helvetica,sans-Serif\" font-size=\"14.00\">samples = 246</text>\n",
       "<text text-anchor=\"start\" x=\"323\" y=\"-134.3\" font-family=\"Helvetica,sans-Serif\" font-size=\"14.00\">value = [0, 0, 246, 0]</text>\n",
       "<text text-anchor=\"start\" x=\"350\" y=\"-119.3\" font-family=\"Helvetica,sans-Serif\" font-size=\"14.00\">class = unacc</text>\n",
       "</g>\n",
       "<!-- 2&#45;&gt;6 -->\n",
       "<g id=\"edge6\" class=\"edge\">\n",
       "<title>2&#45;&gt;6</title>\n",
       "<path fill=\"none\" stroke=\"black\" d=\"M332.54,-222.91C342.45,-211.43 353.23,-198.94 363.16,-187.44\"/>\n",
       "<polygon fill=\"black\" stroke=\"black\" points=\"365.98,-189.52 369.87,-179.67 360.68,-184.95 365.98,-189.52\"/>\n",
       "</g>\n",
       "<!-- 4 -->\n",
       "<g id=\"node5\" class=\"node\">\n",
       "<title>4</title>\n",
       "<path fill=\"#e0f0fb\" stroke=\"black\" d=\"M173,-68C173,-68 12,-68 12,-68 6,-68 0,-62 0,-56 0,-56 0,-12 0,-12 0,-6 6,0 12,0 12,0 173,0 173,0 179,0 185,-6 185,-12 185,-12 185,-56 185,-56 185,-62 179,-68 173,-68\"/>\n",
       "<text text-anchor=\"start\" x=\"48.5\" y=\"-52.8\" font-family=\"Helvetica,sans-Serif\" font-size=\"14.00\">gini = 0.496</text>\n",
       "<text text-anchor=\"start\" x=\"39.5\" y=\"-37.8\" font-family=\"Helvetica,sans-Serif\" font-size=\"14.00\">samples = 271</text>\n",
       "<text text-anchor=\"start\" x=\"8\" y=\"-22.8\" font-family=\"Helvetica,sans-Serif\" font-size=\"14.00\">value = [124, 0, 147, 0]</text>\n",
       "<text text-anchor=\"start\" x=\"44\" y=\"-7.8\" font-family=\"Helvetica,sans-Serif\" font-size=\"14.00\">class = unacc</text>\n",
       "</g>\n",
       "<!-- 3&#45;&gt;4 -->\n",
       "<g id=\"edge4\" class=\"edge\">\n",
       "<title>3&#45;&gt;4</title>\n",
       "<path fill=\"none\" stroke=\"black\" d=\"M157.15,-103.73C148.57,-94.61 139.47,-84.93 130.89,-75.81\"/>\n",
       "<polygon fill=\"black\" stroke=\"black\" points=\"133.22,-73.19 123.82,-68.3 128.13,-77.98 133.22,-73.19\"/>\n",
       "</g>\n",
       "<!-- 5 -->\n",
       "<g id=\"node6\" class=\"node\">\n",
       "<title>5</title>\n",
       "<path fill=\"#f5cdb0\" stroke=\"black\" d=\"M384.5,-68C384.5,-68 214.5,-68 214.5,-68 208.5,-68 202.5,-62 202.5,-56 202.5,-56 202.5,-12 202.5,-12 202.5,-6 208.5,0 214.5,0 214.5,0 384.5,0 384.5,0 390.5,0 396.5,-6 396.5,-12 396.5,-12 396.5,-56 396.5,-56 396.5,-62 390.5,-68 384.5,-68\"/>\n",
       "<text text-anchor=\"start\" x=\"255.5\" y=\"-52.8\" font-family=\"Helvetica,sans-Serif\" font-size=\"14.00\">gini = 0.654</text>\n",
       "<text text-anchor=\"start\" x=\"246.5\" y=\"-37.8\" font-family=\"Helvetica,sans-Serif\" font-size=\"14.00\">samples = 254</text>\n",
       "<text text-anchor=\"start\" x=\"210.5\" y=\"-22.8\" font-family=\"Helvetica,sans-Serif\" font-size=\"14.00\">value = [131, 49, 34, 40]</text>\n",
       "<text text-anchor=\"start\" x=\"251\" y=\"-7.8\" font-family=\"Helvetica,sans-Serif\" font-size=\"14.00\">class = unacc</text>\n",
       "</g>\n",
       "<!-- 3&#45;&gt;5 -->\n",
       "<g id=\"edge5\" class=\"edge\">\n",
       "<title>3&#45;&gt;5</title>\n",
       "<path fill=\"none\" stroke=\"black\" d=\"M234.23,-103.73C242.89,-94.61 252.08,-84.93 260.74,-75.81\"/>\n",
       "<polygon fill=\"black\" stroke=\"black\" points=\"263.52,-77.96 267.87,-68.3 258.45,-73.14 263.52,-77.96\"/>\n",
       "</g>\n",
       "</g>\n",
       "</svg>\n"
      ],
      "text/plain": [
       "<graphviz.files.Source at 0x7fe671bef810>"
      ]
     },
     "execution_count": 29,
     "metadata": {},
     "output_type": "execute_result"
    }
   ],
   "source": [
    "import graphviz \n",
    "dot_data = tree.export_graphviz(clf_gini, out_file=None, \n",
    "                              feature_names=X_train.columns,  \n",
    "                              class_names=y_train,  \n",
    "                              filled=True, rounded=True,  \n",
    "                              special_characters=True)\n",
    "\n",
    "graph = graphviz.Source(dot_data) \n",
    "\n",
    "graph "
   ]
  },
  {
   "cell_type": "markdown",
   "id": "adcb22d0",
   "metadata": {
    "papermill": {
     "duration": 0.052513,
     "end_time": "2022-05-18T10:30:44.452913",
     "exception": false,
     "start_time": "2022-05-18T10:30:44.400400",
     "status": "completed"
    },
    "tags": []
   },
   "source": [
    "# **8. Decision Tree Classifier with criterion entropy** <a class=\"anchor\" id=\"14\"></a>\n"
   ]
  },
  {
   "cell_type": "code",
   "execution_count": 30,
   "id": "4b767506",
   "metadata": {
    "execution": {
     "iopub.execute_input": "2022-05-18T10:30:44.562733Z",
     "iopub.status.busy": "2022-05-18T10:30:44.562398Z",
     "iopub.status.idle": "2022-05-18T10:30:44.573937Z",
     "shell.execute_reply": "2022-05-18T10:30:44.573111Z"
    },
    "papermill": {
     "duration": 0.068189,
     "end_time": "2022-05-18T10:30:44.575866",
     "exception": false,
     "start_time": "2022-05-18T10:30:44.507677",
     "status": "completed"
    },
    "tags": []
   },
   "outputs": [
    {
     "data": {
      "text/plain": [
       "DecisionTreeClassifier(criterion='entropy', max_depth=3, random_state=0)"
      ]
     },
     "execution_count": 30,
     "metadata": {},
     "output_type": "execute_result"
    }
   ],
   "source": [
    "# instantiate the DecisionTreeClassifier model with criterion entropy\n",
    "\n",
    "clf_en = DecisionTreeClassifier(criterion='entropy', max_depth=3, random_state=0)\n",
    "\n",
    "\n",
    "# fit the model\n",
    "clf_en.fit(X_train, y_train)"
   ]
  },
  {
   "cell_type": "markdown",
   "id": "06613406",
   "metadata": {
    "papermill": {
     "duration": 0.053805,
     "end_time": "2022-05-18T10:30:44.682125",
     "exception": false,
     "start_time": "2022-05-18T10:30:44.628320",
     "status": "completed"
    },
    "tags": []
   },
   "source": [
    "### Predict the Test set results with criterion entropy"
   ]
  },
  {
   "cell_type": "code",
   "execution_count": 31,
   "id": "880d98c9",
   "metadata": {
    "execution": {
     "iopub.execute_input": "2022-05-18T10:30:44.791802Z",
     "iopub.status.busy": "2022-05-18T10:30:44.791494Z",
     "iopub.status.idle": "2022-05-18T10:30:44.796952Z",
     "shell.execute_reply": "2022-05-18T10:30:44.796379Z"
    },
    "papermill": {
     "duration": 0.061516,
     "end_time": "2022-05-18T10:30:44.798638",
     "exception": false,
     "start_time": "2022-05-18T10:30:44.737122",
     "status": "completed"
    },
    "tags": []
   },
   "outputs": [],
   "source": [
    "y_pred_en = clf_en.predict(X_test)"
   ]
  },
  {
   "cell_type": "markdown",
   "id": "097fff2f",
   "metadata": {
    "papermill": {
     "duration": 0.052569,
     "end_time": "2022-05-18T10:30:44.903675",
     "exception": false,
     "start_time": "2022-05-18T10:30:44.851106",
     "status": "completed"
    },
    "tags": []
   },
   "source": [
    "### Check accuracy score with criterion entropy"
   ]
  },
  {
   "cell_type": "code",
   "execution_count": 32,
   "id": "6a794c90",
   "metadata": {
    "execution": {
     "iopub.execute_input": "2022-05-18T10:30:45.010999Z",
     "iopub.status.busy": "2022-05-18T10:30:45.010545Z",
     "iopub.status.idle": "2022-05-18T10:30:45.017419Z",
     "shell.execute_reply": "2022-05-18T10:30:45.016392Z"
    },
    "papermill": {
     "duration": 0.06323,
     "end_time": "2022-05-18T10:30:45.019603",
     "exception": false,
     "start_time": "2022-05-18T10:30:44.956373",
     "status": "completed"
    },
    "tags": []
   },
   "outputs": [
    {
     "name": "stdout",
     "output_type": "stream",
     "text": [
      "Model accuracy score with criterion entropy: 0.8021\n"
     ]
    }
   ],
   "source": [
    "from sklearn.metrics import accuracy_score\n",
    "\n",
    "print('Model accuracy score with criterion entropy: {0:0.4f}'. format(accuracy_score(y_test, y_pred_en)))"
   ]
  },
  {
   "cell_type": "markdown",
   "id": "8b91e52d",
   "metadata": {
    "papermill": {
     "duration": 0.052865,
     "end_time": "2022-05-18T10:30:45.127829",
     "exception": false,
     "start_time": "2022-05-18T10:30:45.074964",
     "status": "completed"
    },
    "tags": []
   },
   "source": [
    "### Compare the train-set and test-set accuracy\n",
    "\n",
    "\n",
    "Now, I will compare the train-set and test-set accuracy to check for overfitting."
   ]
  },
  {
   "cell_type": "code",
   "execution_count": 33,
   "id": "8b9be198",
   "metadata": {
    "execution": {
     "iopub.execute_input": "2022-05-18T10:30:45.236349Z",
     "iopub.status.busy": "2022-05-18T10:30:45.236051Z",
     "iopub.status.idle": "2022-05-18T10:30:45.243152Z",
     "shell.execute_reply": "2022-05-18T10:30:45.242394Z"
    },
    "papermill": {
     "duration": 0.064438,
     "end_time": "2022-05-18T10:30:45.245392",
     "exception": false,
     "start_time": "2022-05-18T10:30:45.180954",
     "status": "completed"
    },
    "tags": []
   },
   "outputs": [
    {
     "data": {
      "text/plain": [
       "array(['unacc', 'unacc', 'unacc', ..., 'unacc', 'unacc', 'acc'],\n",
       "      dtype=object)"
      ]
     },
     "execution_count": 33,
     "metadata": {},
     "output_type": "execute_result"
    }
   ],
   "source": [
    "y_pred_train_en = clf_en.predict(X_train)\n",
    "\n",
    "y_pred_train_en"
   ]
  },
  {
   "cell_type": "code",
   "execution_count": 34,
   "id": "5a8ca192",
   "metadata": {
    "execution": {
     "iopub.execute_input": "2022-05-18T10:30:45.357764Z",
     "iopub.status.busy": "2022-05-18T10:30:45.356906Z",
     "iopub.status.idle": "2022-05-18T10:30:45.365758Z",
     "shell.execute_reply": "2022-05-18T10:30:45.364397Z"
    },
    "papermill": {
     "duration": 0.068117,
     "end_time": "2022-05-18T10:30:45.368756",
     "exception": false,
     "start_time": "2022-05-18T10:30:45.300639",
     "status": "completed"
    },
    "tags": []
   },
   "outputs": [
    {
     "name": "stdout",
     "output_type": "stream",
     "text": [
      "Training-set accuracy score: 0.7865\n"
     ]
    }
   ],
   "source": [
    "print('Training-set accuracy score: {0:0.4f}'. format(accuracy_score(y_train, y_pred_train_en)))"
   ]
  },
  {
   "cell_type": "markdown",
   "id": "2e8f2f87",
   "metadata": {
    "papermill": {
     "duration": 0.054419,
     "end_time": "2022-05-18T10:30:45.478059",
     "exception": false,
     "start_time": "2022-05-18T10:30:45.423640",
     "status": "completed"
    },
    "tags": []
   },
   "source": [
    "### Check for overfitting and underfitting"
   ]
  },
  {
   "cell_type": "code",
   "execution_count": 35,
   "id": "25a9b012",
   "metadata": {
    "execution": {
     "iopub.execute_input": "2022-05-18T10:30:45.588320Z",
     "iopub.status.busy": "2022-05-18T10:30:45.587749Z",
     "iopub.status.idle": "2022-05-18T10:30:45.599097Z",
     "shell.execute_reply": "2022-05-18T10:30:45.597805Z"
    },
    "papermill": {
     "duration": 0.068969,
     "end_time": "2022-05-18T10:30:45.601281",
     "exception": false,
     "start_time": "2022-05-18T10:30:45.532312",
     "status": "completed"
    },
    "tags": []
   },
   "outputs": [
    {
     "name": "stdout",
     "output_type": "stream",
     "text": [
      "Training set score: 0.7865\n",
      "Test set score: 0.8021\n"
     ]
    }
   ],
   "source": [
    "# print the scores on training and test set\n",
    "\n",
    "print('Training set score: {:.4f}'.format(clf_en.score(X_train, y_train)))\n",
    "\n",
    "print('Test set score: {:.4f}'.format(clf_en.score(X_test, y_test)))"
   ]
  },
  {
   "cell_type": "markdown",
   "id": "dba1da0a",
   "metadata": {
    "papermill": {
     "duration": 0.054399,
     "end_time": "2022-05-18T10:30:45.711540",
     "exception": false,
     "start_time": "2022-05-18T10:30:45.657141",
     "status": "completed"
    },
    "tags": []
   },
   "source": [
    "We can see that the training-set score and test-set score is same as above. The training-set accuracy score is 0.7865 while the test-set accuracy to be 0.8021. These two values are quite comparable. So, there is no sign of overfitting. \n"
   ]
  },
  {
   "cell_type": "markdown",
   "id": "9931bef6",
   "metadata": {
    "papermill": {
     "duration": 0.076257,
     "end_time": "2022-05-18T10:30:45.855940",
     "exception": false,
     "start_time": "2022-05-18T10:30:45.779683",
     "status": "completed"
    },
    "tags": []
   },
   "source": [
    "# **9. Results and conclusion** <a class=\"anchor\" id=\"17\"></a>\n",
    "\n",
    "\n",
    "\n",
    "1.\tIn this project, I build a Decision-Tree Classifier model to predict the safety of the car. I build two models, one with criterion `gini index` and another one with criterion `entropy`. The model yields a very good performance as indicated by the model accuracy in both the cases which was found to be 0.8021.\n",
    "2.\tIn the model with criterion `gini index`, the training-set accuracy score is 0.7865 while the test-set accuracy to be 0.8021. These two values are quite comparable. So, there is no sign of overfitting.\n",
    "3.\tSimilarly, in the model with criterion `entropy`, the training-set accuracy score is 0.7865 while the test-set accuracy to be 0.8021.We get the same values as in the case with criterion `gini`. So, there is no sign of overfitting.\n",
    "4.\tIn both the cases, the training-set and test-set accuracy score is the same. It may happen because of small dataset."
   ]
  },
  {
   "cell_type": "markdown",
   "id": "2039c160",
   "metadata": {
    "papermill": {
     "duration": 0.053532,
     "end_time": "2022-05-18T10:30:45.963111",
     "exception": false,
     "start_time": "2022-05-18T10:30:45.909579",
     "status": "completed"
    },
    "tags": []
   },
   "source": []
  },
  {
   "cell_type": "code",
   "execution_count": null,
   "id": "6213e728",
   "metadata": {
    "papermill": {
     "duration": 0.054783,
     "end_time": "2022-05-18T10:30:46.074410",
     "exception": false,
     "start_time": "2022-05-18T10:30:46.019627",
     "status": "completed"
    },
    "tags": []
   },
   "outputs": [],
   "source": []
  },
  {
   "cell_type": "code",
   "execution_count": null,
   "id": "09b3db9a",
   "metadata": {
    "papermill": {
     "duration": 0.054457,
     "end_time": "2022-05-18T10:30:46.183702",
     "exception": false,
     "start_time": "2022-05-18T10:30:46.129245",
     "status": "completed"
    },
    "tags": []
   },
   "outputs": [],
   "source": []
  }
 ],
 "metadata": {
  "kernelspec": {
   "display_name": "Python 3",
   "language": "python",
   "name": "python3"
  },
  "language_info": {
   "codemirror_mode": {
    "name": "ipython",
    "version": 3
   },
   "file_extension": ".py",
   "mimetype": "text/x-python",
   "name": "python",
   "nbconvert_exporter": "python",
   "pygments_lexer": "ipython3",
   "version": "3.7.12"
  },
  "papermill": {
   "default_parameters": {},
   "duration": 22.631461,
   "end_time": "2022-05-18T10:30:47.061519",
   "environment_variables": {},
   "exception": null,
   "input_path": "__notebook__.ipynb",
   "output_path": "__notebook__.ipynb",
   "parameters": {},
   "start_time": "2022-05-18T10:30:24.430058",
   "version": "2.3.4"
  }
 },
 "nbformat": 4,
 "nbformat_minor": 5
}
